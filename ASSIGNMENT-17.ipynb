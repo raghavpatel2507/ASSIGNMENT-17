{
 "cells": [
  {
   "cell_type": "code",
   "execution_count": null,
   "id": "b954cc58-acd7-401b-807e-c6f31886466b",
   "metadata": {},
   "outputs": [],
   "source": [
    "#q-1\n",
    "The Probability Density Function (PDF) is a concept used in probability theory and statistics. It describes the probability distribution of a continuous random variable. In other words, the PDF specifies the relative likelihood of different outcomes for a continuous random variable.\n",
    "\n",
    "Mathematically, the PDF is a function that assigns probabilities to different intervals of the variable's range. It provides the basis for calculating probabilities by integrating the function over a given interval.\n",
    "\n",
    "The PDF has the following properties:\n",
    "\n",
    "Non-negative values: The PDF must be non-negative for all values of the random variable.\n",
    "\n",
    "Total area under the curve: The total area under the PDF curve over the entire range of the random variable is equal to 1. This indicates that the probability of observing any possible outcome is 1.\n",
    "\n",
    "The PDF is often denoted by the symbol f(x), where x represents the random variable. It is important to note that the PDF is only applicable to continuous random variables. For discrete random variables, probability mass function (PMF) is used instead.\n"
   ]
  },
  {
   "cell_type": "code",
   "execution_count": null,
   "id": "9b3d7916-dec8-422f-9d02-abda9d32c052",
   "metadata": {},
   "outputs": [],
   "source": [
    "#q-2\n",
    "1.Uniform Distribution: \n",
    "2.Normal Distribution (Gaussian Distribution): \n",
    "3.Binomial Distribution:\n",
    "4.Poisson Distribution: \n",
    "5.Chi-Square Distribution: \n",
    "6.Bernulli destribution:    "
   ]
  },
  {
   "cell_type": "code",
   "execution_count": 1,
   "id": "7e61b132-7a90-4273-80b1-de1db5946a13",
   "metadata": {},
   "outputs": [],
   "source": [
    "#q-3\n",
    "import math\n",
    "\n",
    "def normal_pdf(x, mean, std_dev):\n",
    "    \n",
    "    coefficient = 1 / (std_dev * math.sqrt(2 * math.pi))\n",
    "    exponent = -((x - mean) ** 2) / (2 * std_dev ** 2)\n",
    "    pdf = coefficient * math.exp(exponent)\n",
    "    return pdf"
   ]
  },
  {
   "cell_type": "code",
   "execution_count": 2,
   "id": "2c6a14cc-3852-421f-9ef1-c3db7c950951",
   "metadata": {},
   "outputs": [
    {
     "name": "stdout",
     "output_type": "stream",
     "text": [
      "PDF value at x = 1.5 is 0.12951759566589174\n"
     ]
    }
   ],
   "source": [
    "mean = 0.0\n",
    "std_dev = 1.0\n",
    "x = 1.5\n",
    "\n",
    "pdf_value = normal_pdf(x, mean, std_dev)\n",
    "print(\"PDF value at x =\", x, \"is\", pdf_value)"
   ]
  },
  {
   "cell_type": "code",
   "execution_count": null,
   "id": "641b7a2f-2b10-4c08-9219-51a2bdffae85",
   "metadata": {},
   "outputs": [],
   "source": [
    "#q-4\n",
    "Fixed number of trials: The Binomial distribution models a fixed number of independent trials or experiments, denoted by 'n'.\n",
    "\n",
    "Two possible outcomes: Each trial has two possible outcomes: success (usually denoted by 'S') or failure (usually denoted by 'F').\n",
    "\n",
    "Independent trials: The outcome of each trial is independent of the others. The result of one trial does not affect the outcome of subsequent trials.\n",
    "\n",
    "Constant probability: The probability of success ('S') remains constant for each trial and is denoted by 'p'.\n",
    "\n",
    "Discrete probability distribution: The Binomial distribution is a discrete probability distribution, meaning that the random variable represents a count or number of successes.\n",
    "\n",
    "Two examples where the Binomial distribution can be applied:\n",
    "\n",
    "1.Coin Flipping: Consider flipping a fair coin multiple times and counting the number of heads. Each flip has two possible outcomes: heads or tails. The probability of getting heads (success) is 0.5 for each flip, and the number of flips is fixed. The Binomial distribution can be used to calculate the probabilities of obtaining a specific number of heads.\n",
    "2.Quality Control: Suppose a manufacturing process produces items that can be either defective or non-defective. We randomly select a sample of items from the production line and check if they are defective. The probability of an item being defective remains constant for each item in the sample. The Binomial distribution can be used to calculate the probabilities of finding a certain number of defective items in the sample.\n"
   ]
  },
  {
   "cell_type": "code",
   "execution_count": 5,
   "id": "b206ee9e-c17c-4622-8293-f7cf739b7490",
   "metadata": {},
   "outputs": [
    {
     "data": {
      "image/png": "[encoded data removed]",
      "text/plain": [
       "<Figure size 640x480 with 1 Axes>"
      ]
     },
     "metadata": {},
     "output_type": "display_data"
    }
   ],
   "source": [
    "#q-5\n",
    "import numpy as np\n",
    "import matplotlib.pyplot as plt\n",
    "\n",
    "# Set the parameters\n",
    "sample_size = 1000\n",
    "probability_of_success = 0.4\n",
    "\n",
    "# Generate the random sample\n",
    "sample = np.random.binomial(1, probability_of_success, size=sample_size)\n",
    "\n",
    "# Plot the histogram\n",
    "plt.hist(sample, bins=2, edgecolor='black')\n",
    "plt.xlabel('Success or Failure')\n",
    "plt.ylabel('Frequency')\n",
    "plt.title('Histogram of Random Sample from Binomial Distribution')\n",
    "plt.xticks([0, 1], ['Failure', 'Success'])\n",
    "plt.show()"
   ]
  },
  {
   "cell_type": "code",
   "execution_count": 6,
   "id": "4f13b667-f4f2-412a-bf43-082e650d1ce4",
   "metadata": {},
   "outputs": [],
   "source": [
    "#q-6\n",
    "import math\n",
    "\n",
    "def poisson_cdf(k, mean):\n",
    "   \n",
    "    cdf = 0.0\n",
    "    for i in range(k + 1):\n",
    "        cdf += math.exp(-mean) * (mean ** i) / math.factorial(i)\n",
    "    return cdf"
   ]
  },
  {
   "cell_type": "code",
   "execution_count": 7,
   "id": "15026aa8-edd9-4e63-8c45-f8048fb90cc0",
   "metadata": {},
   "outputs": [
    {
     "name": "stdout",
     "output_type": "stream",
     "text": [
      "CDF value at k = 2 is 0.3208471988621341\n"
     ]
    }
   ],
   "source": [
    "mean = 3.5\n",
    "k = 2\n",
    "\n",
    "cdf_value = poisson_cdf(k, mean)\n",
    "print(\"CDF value at k =\", k, \"is\", cdf_value)"
   ]
  },
  {
   "cell_type": "code",
   "execution_count": null,
   "id": "8e238f1d-6dba-47e9-a647-1144cd62059d",
   "metadata": {},
   "outputs": [],
   "source": [
    "#q-7\n",
    "Number of Trials: The Binomial distribution models a fixed number of independent trials, denoted by 'n', where each trial has two possible outcomes (success or failure). In contrast, the Poisson distribution does not have a fixed number of trials; it models the number of events occurring in a fixed interval of time or space.\n",
    "\n",
    "Probability of Success: In the Binomial distribution, the probability of success ('p') remains constant for each trial. The Poisson distribution does not have a fixed probability of success; instead, it is characterized by the average rate of event occurrence ('λ') in a given interval.\n",
    "\n",
    "Type of Events: The Binomial distribution is commonly used when dealing with events that have a fixed number of trials, such as flipping a coin or counting the number of successes in a fixed sample size. The Poisson distribution is often applied to situations where events occur randomly and independently, such as the number of phone calls received in a call center or the number of accidents at an intersection.\n",
    "\n",
    "Distribution Shape: The shape of the Binomial distribution is generally bell-shaped and symmetric, especially when the number of trials is large and the probability of success is not too close to 0 or 1. The Poisson distribution, on the other hand, is skewed and typically right-skewed.\n",
    "\n",
    "Assumptions: The Binomial distribution assumes that the trials are independent and have a fixed probability of success. The Poisson distribution assumes that events occur randomly and independently, and the average rate of occurrence is constant throughout the interval.\n"
   ]
  },
  {
   "cell_type": "code",
   "execution_count": 8,
   "id": "8304a21c-8707-4c4e-b9c7-f6f8203e5269",
   "metadata": {},
   "outputs": [
    {
     "name": "stdout",
     "output_type": "stream",
     "text": [
      "Sample Mean: 5.051\n",
      "Sample Variance: 4.986399\n"
     ]
    }
   ],
   "source": [
    "#q-8\n",
    "import numpy as np\n",
    "\n",
    "# Set the parameters\n",
    "sample_size = 1000\n",
    "mean = 5\n",
    "\n",
    "# Generate the random sample\n",
    "sample = np.random.poisson(mean, size=sample_size)\n",
    "\n",
    "# Calculate the sample mean and variance\n",
    "sample_mean = np.mean(sample)\n",
    "sample_variance = np.var(sample)\n",
    "\n",
    "# Print the results\n",
    "print(\"Sample Mean:\", sample_mean)\n",
    "print(\"Sample Variance:\", sample_variance)"
   ]
  },
  {
   "cell_type": "code",
   "execution_count": null,
   "id": "eef86e83-04d0-4113-b0e7-d98b0d1203ae",
   "metadata": {},
   "outputs": [],
   "source": [
    "#q-9\n",
    "In the Binomial distribution:\n",
    "\n",
    "Mean: The mean of a Binomial distribution is given by the product of the number of trials (n) and the probability of success (p), denoted as μ = n * p.\n",
    "Variance: The variance of a Binomial distribution is given by the product of the number of trials (n), the probability of success (p), and the probability of failure (1 - p), denoted as σ^2 = n * p * (1 - p).\n",
    "\n",
    "In the Poisson distribution:\n",
    "\n",
    "Mean: The mean of a Poisson distribution is equal to the average rate of event occurrence within a fixed interval, denoted as μ.\n",
    "Variance: The variance of a Poisson distribution is also equal to the mean, denoted as σ^2 = μ.\n"
   ]
  },
  {
   "cell_type": "code",
   "execution_count": null,
   "id": "e16dbe43-0aa4-4959-9dbb-8fd75e72b91d",
   "metadata": {},
   "outputs": [],
   "source": [
    "#q-10\n",
    "The normal distribution is a symmetric distribution, meaning that the data is evenly distributed around the mean. The highest frequency of data points occurs near the mean, and the frequencies gradually decrease as you move away from the mean towards the tails of the distribution.\n",
    "\n",
    "The tails of the normal distribution represent the extreme values, which occur with lower probabilities. These extreme values are located at both ends of the distribution, farthest away from the mean. Consequently, the data points in the tails are the least frequent in a normal distribution.\n",
    "\n",
    "It's important to note that the exact location of the least frequent data points in a normal distribution depends on the specific standard deviation (spread) of the distribution. A larger standard deviation will result in wider tails and more data points in the tails compared to a smaller standard deviation.\n"
   ]
  }
 ],
 "metadata": {
  "kernelspec": {
   "display_name": "Python 3 (ipykernel)",
   "language": "python",
   "name": "python3"
  },
  "language_info": {
   "codemirror_mode": {
    "name": "ipython",
    "version": 3
   },
   "file_extension": ".py",
   "mimetype": "text/x-python",
   "name": "python",
   "nbconvert_exporter": "python",
   "pygments_lexer": "ipython3",
   "version": "3.10.8"
  }
 },
 "nbformat": 4,
 "nbformat_minor": 5
}
